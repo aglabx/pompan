{
 "cells": [
  {
   "cell_type": "code",
   "execution_count": 1,
   "metadata": {},
   "outputs": [
    {
     "name": "stdout",
     "output_type": "stream",
     "text": [
      "Collecting orfipy\n",
      "  Downloading orfipy-0.0.3.tar.gz (101 kB)\n",
      "\u001b[K     |████████████████████████████████| 101 kB 733 kB/s ta 0:00:011\n",
      "\u001b[?25h  Installing build dependencies ... \u001b[?25ldone\n",
      "\u001b[?25h  Getting requirements to build wheel ... \u001b[?25ldone\n",
      "\u001b[?25h    Preparing wheel metadata ... \u001b[?25ldone\n",
      "\u001b[?25hRequirement already satisfied: cython in /home/clony/staff/conda/lib/python3.8/site-packages (from orfipy) (0.29.21)\n",
      "Requirement already satisfied: psutil in /home/clony/staff/conda/lib/python3.8/site-packages (from orfipy) (5.7.2)\n",
      "Requirement already satisfied: colorama in /home/clony/staff/conda/lib/python3.8/site-packages (from orfipy) (0.4.4)\n",
      "Collecting pyfastx\n",
      "  Downloading pyfastx-0.8.4-cp38-cp38-manylinux2010_x86_64.whl (878 kB)\n",
      "\u001b[K     |████████████████████████████████| 878 kB 5.5 MB/s eta 0:00:01\n",
      "\u001b[?25hCollecting pyahocorasick\n",
      "  Downloading pyahocorasick-1.4.2.tar.gz (321 kB)\n",
      "\u001b[K     |████████████████████████████████| 321 kB 26.6 MB/s eta 0:00:01\n",
      "\u001b[?25hBuilding wheels for collected packages: orfipy, pyahocorasick\n",
      "  Building wheel for orfipy (PEP 517) ... \u001b[?25ldone\n",
      "\u001b[?25h  Created wheel for orfipy: filename=orfipy-0.0.3-cp38-cp38-linux_x86_64.whl size=568243 sha256=8a2b96f61350bd872419ee4c2529adf14512fa0955989ba2c28fcad5e9f2b68d\n",
      "  Stored in directory: /home/clony/.cache/pip/wheels/a2/c4/23/02055502ab1791952caea58e0c58acb5da8978346cd4e4ab98\n",
      "  Building wheel for pyahocorasick (setup.py) ... \u001b[?25ldone\n",
      "\u001b[?25h  Created wheel for pyahocorasick: filename=pyahocorasick-1.4.2-cp38-cp38-linux_x86_64.whl size=113500 sha256=89cdc2ee3912b12d4037626faf4005aed95c23422d302db4bdd9abebe83be06e\n",
      "  Stored in directory: /home/clony/.cache/pip/wheels/74/bc/b8/e5f739a84005620cfe66d3fcb8bb182e309d6056bc6700b60e\n",
      "Successfully built orfipy pyahocorasick\n",
      "Installing collected packages: pyfastx, pyahocorasick, orfipy\n",
      "Successfully installed orfipy-0.0.3 pyahocorasick-1.4.2 pyfastx-0.8.4\n"
     ]
    }
   ],
   "source": [
    "!pip3 install orfipy"
   ]
  },
  {
   "cell_type": "code",
   "execution_count": 53,
   "metadata": {},
   "outputs": [],
   "source": [
    "import orfipy_core \n",
    "from Bio import Seq, SeqUtils, SeqIO\n",
    "from Bio.SeqUtils import GC\n",
    "import re\n",
    "from collections import defaultdict\n",
    "from itertools import combinations, product, accumulate\n",
    "import matplotlib.pyplot as plt\n",
    "import numpy as np"
   ]
  },
  {
   "cell_type": "code",
   "execution_count": 54,
   "metadata": {},
   "outputs": [],
   "source": [
    "def read_record(file_name: str) -> str:\n",
    "        record = SeqIO.read(file_name, \"fasta\")\n",
    "        return str(record.seq) #Seq.reverse_complement(record.seq)"
   ]
  },
  {
   "cell_type": "code",
   "execution_count": 55,
   "metadata": {},
   "outputs": [],
   "source": [
    "seq = read_record('sequence.txt')\n",
    "start_dict = {}\n",
    "stop_dict = {}"
   ]
  },
  {
   "cell_type": "code",
   "execution_count": 56,
   "metadata": {},
   "outputs": [],
   "source": [
    "for start,stop,strand,description in orfipy_core.orfs(seq,minlen=3,maxlen=1000):\n",
    "    cod = re.findall(r'Start:(\\w+)',description)\n",
    "    start_dict[start]=cod[0]"
   ]
  },
  {
   "cell_type": "code",
   "execution_count": 57,
   "metadata": {},
   "outputs": [
    {
     "name": "stdout",
     "output_type": "stream",
     "text": [
      "{33: 'ATG', 225: 'CTG', 282: 'TTG', 345: 'TTG', 384: 'ATG', 417: 'TTG', 672: 'CTG', 723: 'TTG', 774: 'TTG', 855: 'TTG', 876: 'TTG', 930: 'TTG', 951: 'CTG', 1032: 'CTG', 1110: 'ATG', 1134: 'TTG', 1161: 'TTG', 1224: 'CTG', 1530: 'TTG', 1731: 'TTG', 3357: 'ATG', 3519: 'ATG', 3555: 'CTG', 3576: 'ATG', 3675: 'TTG', 3735: 'TTG', 3843: 'TTG', 3906: 'TTG', 3987: 'CTG', 4023: 'TTG', 4179: 'TTG', 4248: 'ATG', 4299: 'ATG', 7680: 'TTG', 7728: 'CTG', 7830: 'CTG', 8127: 'CTG', 8166: 'CTG', 8361: 'ATG', 8409: 'ATG', 8448: 'CTG', 8625: 'TTG', 8748: 'CTG', 8976: 'ATG', 9246: 'CTG', 9324: 'ATG', 9426: 'ATG', 9636: 'TTG', 9717: 'TTG', 9810: 'CTG', 9858: 'TTG', 9888: 'ATG', 9906: 'TTG', 9930: 'ATG', 9972: 'TTG', 10029: 'ATG', 10095: 'TTG', 10161: 'CTG', 10224: 'TTG', 10251: 'CTG', 10314: 'TTG', 10329: 'CTG', 10371: 'TTG', 10398: 'ATG', 10479: 'ATG', 10530: 'ATG', 10575: 'TTG', 10638: 'TTG', 10731: 'ATG', 10779: 'ATG', 10803: 'ATG', 10911: 'CTG', 10935: 'TTG', 11007: 'CTG', 11124: 'TTG', 11139: 'ATG', 11163: 'CTG', 11217: 'CTG', 11283: 'ATG', 11379: 'TTG', 11505: 'CTG', 11529: 'TTG', 11619: 'CTG', 11643: 'TTG', 11667: 'ATG', 11814: 'TTG', 11943: 'TTG', 11976: 'ATG', 12042: 'TTG', 12078: 'TTG', 12114: 'TTG', 12153: 'CTG', 12240: 'TTG', 12282: 'CTG', 12336: 'ATG', 12414: 'ATG', 12549: 'ATG', 12603: 'ATG', 12702: 'TTG', 12753: 'ATG', 12870: 'TTG', 12942: 'CTG', 12984: 'ATG', 13143: 'TTG', 13293: 'CTG', 13428: 'ATG', 13446: 'TTG', 13566: 'TTG', 13584: 'TTG', 13602: 'ATG', 13626: 'ATG', 13650: 'CTG', 13722: 'TTG', 13818: 'TTG', 13887: 'ATG', 13977: 'ATG', 14019: 'ATG', 14220: 'ATG', 14289: 'TTG', 14328: 'ATG', 14400: 'ATG', 14517: 'CTG', 14565: 'TTG', 14688: 'CTG', 14724: 'TTG', 14760: 'TTG', 14952: 'TTG', 15006: 'TTG', 15027: 'ATG', 15057: 'TTG', 15141: 'CTG', 15165: 'TTG', 15243: 'TTG', 15372: 'ATG', 15516: 'TTG', 15789: 'TTG', 541: 'ATG', 628: 'CTG', 748: 'ATG', 868: 'ATG', 1102: 'CTG', 1828: 'ATG', 2422: 'TTG', 2608: 'CTG', 2638: 'ATG', 2671: 'CTG', 2842: 'TTG', 2920: 'TTG', 3046: 'TTG', 3076: 'ATG', 3160: 'TTG', 3259: 'TTG', 3346: 'CTG', 3418: 'TTG', 3580: 'ATG', 3808: 'TTG', 4144: 'CTG', 4276: 'ATG', 4321: 'CTG', 4486: 'ATG', 5158: 'CTG', 5479: 'CTG', 5722: 'ATG', 5794: 'TTG', 5830: 'TTG', 5860: 'TTG', 5938: 'TTG', 5977: 'CTG', 6106: 'TTG', 6163: 'ATG', 6292: 'TTG', 6340: 'TTG', 6397: 'CTG', 6580: 'TTG', 6679: 'CTG', 6700: 'TTG', 6793: 'TTG', 6850: 'ATG', 6955: 'TTG', 7039: 'TTG', 7066: 'CTG', 7123: 'TTG', 9145: 'ATG', 9499: 'TTG', 9610: 'ATG', 9712: 'ATG', 9733: 'TTG', 9787: 'TTG', 9925: 'TTG', 10153: 'CTG', 10408: 'TTG', 10453: 'TTG', 10549: 'CTG', 10657: 'ATG', 10897: 'ATG', 11233: 'CTG', 11242: 'TTG', 11365: 'TTG', 11398: 'ATG', 11458: 'TTG', 11590: 'ATG', 11788: 'ATG', 11833: 'ATG', 12211: 'CTG', 12244: 'ATG', 12625: 'ATG', 12760: 'ATG', 12970: 'ATG', 12997: 'TTG', 13336: 'TTG', 13510: 'ATG', 13714: 'TTG', 13858: 'CTG', 13945: 'ATG', 14089: 'CTG', 14236: 'ATG', 14521: 'TTG', 14560: 'ATG', 14815: 'TTG', 15229: 'CTG', 15322: 'TTG', 15541: 'TTG', 15742: 'ATG', 1847: 'ATG', 2564: 'ATG', 4637: 'CTG', 5279: 'CTG', 5657: 'CTG', 6038: 'TTG', 6527: 'ATG', 6713: 'ATG', 6998: 'ATG', 7106: 'CTG', 7193: 'CTG', 7295: 'ATG', 7364: 'TTG', 7433: 'TTG', 7505: 'ATG', 7565: 'TTG', 7604: 'CTG', 7625: 'CTG', 7760: 'ATG', 7814: 'CTG', 7913: 'ATG', 8033: 'TTG', 8096: 'TTG', 8294: 'ATG', 8345: 'CTG', 8510: 'CTG', 8531: 'TTG', 8618: 'ATG', 8720: 'TTG', 8822: 'CTG', 9023: 'TTG', 15785: 'TTG', 15807: 'TTG', 15717: 'CTG', 15651: 'CTG', 15417: 'TTG', 15348: 'CTG', 15321: 'TTG', 15219: 'CTG', 15153: 'ATG', 15108: 'CTG', 14904: 'TTG', 14865: 'CTG', 14556: 'CTG', 14430: 'ATG', 14388: 'TTG', 14334: 'TTG', 14271: 'CTG', 14178: 'TTG', 14166: 'CTG', 13998: 'CTG', 13884: 'ATG', 13824: 'TTG', 13713: 'CTG', 13683: 'CTG', 13665: 'TTG', 13563: 'CTG', 13545: 'CTG', 13509: 'ATG', 13305: 'TTG', 13227: 'ATG', 13197: 'CTG', 13086: 'ATG', 12951: 'TTG', 12879: 'TTG', 12789: 'ATG', 12768: 'CTG', 12744: 'ATG', 12645: 'TTG', 12612: 'CTG', 12567: 'CTG', 12456: 'TTG', 12438: 'TTG', 12405: 'CTG', 12273: 'ATG', 12219: 'TTG', 12126: 'ATG', 12084: 'TTG', 11997: 'TTG', 11958: 'TTG', 11952: 'TTG', 11862: 'ATG', 11850: 'TTG', 11811: 'ATG', 11775: 'CTG', 11688: 'TTG', 11481: 'ATG', 11262: 'ATG', 11202: 'ATG', 11109: 'CTG', 11034: 'TTG', 10989: 'CTG', 10875: 'TTG', 10851: 'CTG', 10743: 'ATG', 10596: 'CTG', 10425: 'ATG', 10293: 'CTG', 10248: 'ATG', 10008: 'CTG', 9981: 'CTG', 9936: 'CTG', 9822: 'CTG', 9747: 'CTG', 9741: 'CTG', 9519: 'TTG', 9462: 'TTG', 9144: 'CTG', 9057: 'CTG', 8928: 'TTG', 8898: 'CTG', 8856: 'CTG', 8355: 'TTG', 8331: 'TTG', 8202: 'ATG', 8172: 'CTG', 8094: 'ATG', 7965: 'CTG', 7911: 'TTG', 7860: 'ATG', 7806: 'CTG', 7725: 'TTG', 7596: 'TTG', 7530: 'ATG', 7467: 'TTG', 7377: 'ATG', 7305: 'CTG', 7086: 'TTG', 6996: 'TTG', 6894: 'CTG', 6693: 'TTG', 6633: 'TTG', 6603: 'TTG', 6453: 'TTG', 6354: 'TTG', 6120: 'CTG', 6048: 'CTG', 5826: 'TTG', 5694: 'CTG', 5505: 'TTG', 5310: 'ATG', 4875: 'TTG', 4434: 'TTG', 4311: 'CTG', 4218: 'CTG', 4053: 'ATG', 3804: 'CTG', 3741: 'CTG', 3588: 'TTG', 3372: 'ATG', 3333: 'CTG', 3225: 'CTG', 3012: 'TTG', 2850: 'TTG', 2595: 'CTG', 2544: 'TTG', 2232: 'TTG', 2127: 'TTG', 2097: 'CTG', 2016: 'CTG', 1926: 'CTG', 1737: 'ATG', 1596: 'CTG', 1428: 'CTG', 1326: 'CTG', 1266: 'TTG', 1236: 'ATG', 1194: 'CTG', 1080: 'ATG', 945: 'TTG', 852: 'CTG', 654: 'CTG', 597: 'TTG', 450: 'CTG', 276: 'CTG', 213: 'TTG', 168: 'CTG', 63: 'ATG', 15668: 'CTG', 15632: 'CTG', 15386: 'CTG', 15365: 'ATG', 15227: 'CTG', 15212: 'TTG', 15134: 'CTG', 14969: 'ATG', 14705: 'ATG', 14645: 'TTG', 14459: 'ATG', 14237: 'CTG', 14183: 'ATG', 14153: 'ATG', 13988: 'TTG', 13898: 'TTG', 13832: 'ATG', 13748: 'CTG', 13679: 'ATG', 13559: 'ATG', 13469: 'TTG', 13316: 'ATG', 13202: 'TTG', 13091: 'TTG', 12971: 'TTG', 12785: 'TTG', 12722: 'ATG', 12653: 'ATG', 12632: 'CTG', 12518: 'TTG', 12332: 'ATG', 12299: 'ATG', 12233: 'CTG', 12149: 'TTG', 11915: 'TTG', 11756: 'TTG', 11714: 'ATG', 11666: 'ATG', 11540: 'TTG', 11399: 'CTG', 11306: 'ATG', 11267: 'CTG', 11063: 'ATG', 10718: 'TTG', 10625: 'TTG', 10526: 'CTG', 10286: 'TTG', 10235: 'ATG', 10094: 'ATG', 9998: 'TTG', 9845: 'ATG', 9776: 'ATG', 9644: 'TTG', 9563: 'TTG', 9392: 'CTG', 9281: 'CTG', 9245: 'CTG', 9095: 'ATG', 9083: 'CTG', 8984: 'CTG', 8945: 'TTG', 8801: 'ATG', 8732: 'ATG', 8672: 'ATG', 8636: 'TTG', 8576: 'CTG', 8546: 'ATG', 8516: 'CTG', 8342: 'ATG', 8237: 'ATG', 8189: 'CTG', 8153: 'CTG', 8051: 'CTG', 7982: 'CTG', 7934: 'ATG', 7853: 'ATG', 7847: 'TTG', 7757: 'CTG', 7709: 'CTG', 7691: 'CTG', 7445: 'CTG', 7403: 'CTG', 7244: 'TTG', 7163: 'TTG', 7094: 'TTG', 6947: 'TTG', 6674: 'ATG', 6650: 'ATG', 6383: 'TTG', 6311: 'TTG', 6287: 'CTG', 6164: 'CTG', 6086: 'ATG', 5999: 'CTG', 5933: 'CTG', 5891: 'TTG', 5870: 'ATG', 5846: 'ATG', 5762: 'TTG', 5612: 'CTG', 5585: 'CTG', 5528: 'TTG', 5444: 'ATG', 5396: 'TTG', 5252: 'TTG', 5189: 'TTG', 4484: 'CTG', 4373: 'TTG', 4319: 'CTG', 4010: 'TTG', 3875: 'CTG', 3824: 'TTG', 3428: 'CTG', 3395: 'TTG', 3245: 'ATG', 3119: 'CTG', 2795: 'CTG', 2726: 'TTG', 2201: 'TTG', 2150: 'ATG', 1748: 'ATG', 1679: 'CTG', 1580: 'TTG', 1550: 'CTG', 1394: 'ATG', 1367: 'TTG', 1292: 'TTG', 1199: 'TTG', 1064: 'CTG', 986: 'TTG', 905: 'ATG', 686: 'TTG', 620: 'CTG', 566: 'TTG', 503: 'TTG', 461: 'TTG', 437: 'TTG', 413: 'CTG', 344: 'CTG', 29: 'ATG', 15847: 'CTG', 15616: 'CTG', 15562: 'TTG', 15484: 'TTG', 15424: 'TTG', 15205: 'ATG', 15100: 'TTG', 15064: 'ATG', 14713: 'CTG', 14659: 'TTG', 14626: 'TTG', 14527: 'TTG', 14479: 'CTG', 14338: 'TTG', 14251: 'CTG', 14161: 'ATG', 13960: 'ATG', 13909: 'ATG', 13849: 'TTG', 13759: 'TTG', 13690: 'TTG', 13534: 'ATG', 13363: 'CTG', 13120: 'ATG', 12979: 'ATG', 12793: 'ATG', 12754: 'TTG', 12556: 'TTG', 12430: 'TTG', 12229: 'CTG', 12058: 'TTG', 11890: 'TTG', 11746: 'ATG', 11683: 'TTG', 11641: 'ATG', 11599: 'TTG', 11557: 'CTG', 11512: 'TTG', 11464: 'ATG', 11191: 'CTG', 11071: 'CTG', 11044: 'CTG', 10885: 'TTG', 10828: 'TTG', 10798: 'TTG', 10693: 'TTG', 10507: 'TTG', 10432: 'CTG', 10399: 'TTG', 10360: 'ATG', 10240: 'ATG', 10102: 'CTG', 10066: 'ATG', 9898: 'ATG', 9697: 'CTG', 9508: 'TTG', 9373: 'TTG', 9346: 'CTG', 9277: 'TTG', 9178: 'TTG', 9154: 'CTG', 9034: 'CTG', 8968: 'TTG', 8821: 'ATG', 8662: 'ATG', 8326: 'TTG', 8209: 'CTG', 8011: 'CTG', 7921: 'CTG', 7837: 'TTG', 7783: 'CTG', 7612: 'TTG', 7504: 'CTG', 7429: 'ATG', 7276: 'ATG', 7117: 'ATG', 7075: 'TTG', 6937: 'CTG', 6862: 'ATG', 6670: 'TTG', 6595: 'CTG', 6466: 'CTG', 6433: 'ATG', 6331: 'TTG', 6184: 'CTG', 6079: 'ATG', 5950: 'CTG', 5929: 'TTG', 5731: 'TTG', 5653: 'TTG', 5593: 'ATG', 5551: 'TTG', 5491: 'CTG', 5437: 'CTG', 4864: 'ATG', 4396: 'CTG', 4381: 'ATG', 4282: 'TTG', 4213: 'TTG', 3949: 'CTG', 3913: 'ATG', 3778: 'TTG', 3514: 'TTG', 3451: 'TTG', 3376: 'TTG', 3340: 'CTG', 2998: 'CTG', 2917: 'CTG', 2881: 'TTG', 2761: 'TTG', 2491: 'TTG', 2338: 'CTG', 2194: 'CTG', 1987: 'TTG', 1864: 'CTG', 1684: 'CTG', 1459: 'CTG', 1378: 'CTG', 1174: 'CTG', 1111: 'ATG', 1069: 'CTG', 1042: 'ATG', 529: 'CTG', 424: 'CTG', 373: 'CTG', 40: 'TTG'}\n"
     ]
    }
   ],
   "source": [
    "print(max(start_dict)"
   ]
  },
  {
   "cell_type": "code",
   "execution_count": 58,
   "metadata": {},
   "outputs": [],
   "source": [
    "for start,stop,strand,description in orfipy_core.orfs(seq,minlen=3,maxlen=1000):\n",
    "    cod = re.findall(r'Stop:(\\w+)',description)\n",
    "    stop_dict[stop]=cod[0]"
   ]
  },
  {
   "cell_type": "code",
   "execution_count": 59,
   "metadata": {},
   "outputs": [
    {
     "name": "stdout",
     "output_type": "stream",
     "text": [
      "TGA\n"
     ]
    }
   ],
   "source": [
    "track={}\n",
    "\n",
    "for key,value in stop_dict.items():\n",
    "    if value not in track:\n",
    "        track[value]=0\n",
    "    else:\n",
    "        track[value]+=1\n",
    "\n",
    "print(max(track,key=track.get))"
   ]
  },
  {
   "cell_type": "code",
   "execution_count": 60,
   "metadata": {},
   "outputs": [
    {
     "name": "stdout",
     "output_type": "stream",
     "text": [
      "TTG\n"
     ]
    }
   ],
   "source": [
    "track={}\n",
    "\n",
    "for key,value in start_dict.items():\n",
    "    if value not in track:\n",
    "        track[value]=0\n",
    "    else:\n",
    "        track[value]+=1\n",
    "\n",
    "print(max(track,key=track.get))"
   ]
  },
  {
   "cell_type": "code",
   "execution_count": null,
   "metadata": {},
   "outputs": [],
   "source": []
  }
 ],
 "metadata": {
  "kernelspec": {
   "display_name": "Python 3",
   "language": "python",
   "name": "python3"
  },
  "language_info": {
   "codemirror_mode": {
    "name": "ipython",
    "version": 3
   },
   "file_extension": ".py",
   "mimetype": "text/x-python",
   "name": "python",
   "nbconvert_exporter": "python",
   "pygments_lexer": "ipython3",
   "version": "3.8.5"
  }
 },
 "nbformat": 4,
 "nbformat_minor": 4
}

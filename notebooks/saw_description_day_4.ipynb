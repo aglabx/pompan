{
 "cells": [
  {
   "cell_type": "markdown",
   "id": "65dcd285",
   "metadata": {},
   "source": [
    "# Поиск генов под отбором: запуск PAML"
   ]
  },
  {
   "cell_type": "markdown",
   "id": "567f1890",
   "metadata": {},
   "source": [
    "PAML довольно сложная программа вычисляющая всякие эволюционные статистики методами максимального правдоподобия. Ей на вход нужно филогенетическое дерево в формате Newick, конфигурационный файл и файл выравнивания.\n",
    "\n",
    "В идеале вам нужно прочитать мануал DOI 10.1007/978-1-4939-1438-8_4 и разобраться самим, но инструкцию я оставлю, потому что быстро разобраться не выйдет."
   ]
  },
  {
   "cell_type": "markdown",
   "id": "7f632af7",
   "metadata": {},
   "source": [
    "**1. Дерево.**\n",
    "\n",
    "Если у вас три вида, и вы знаете как они связаны между собой эволюционно, можно не париться и взять строчку вида ((1,2),3), здесь 1 и 2 это сестринские виды, а 3 - аутгруппа. Цифры обозначают организмы в соответствии с их порядком в файлах выравнивания!!\n",
    "\n",
    "Эту строчку записываем в файл my.tree. "
   ]
  },
  {
   "cell_type": "markdown",
   "id": "800b6290",
   "metadata": {},
   "source": [
    "**2. Конфигурационный файл.**\n",
    "\n",
    "PAML написан на старопердунском языке программирования Perl. Для таких программ обычным делом является не читать параметры из командной строки при запуске, а требовать специальный конфигурационный файл с параметрами и указанием файлов инпута и аутпута.\n",
    "Мы будем запускать 3 типа расчетов: усредненный расчет dn/ds, расчет dn/ds в соответствии с нулевой гипотезой (на гены не действует отбор), расчет dn/ds в соответствии с гипотезой действия отбора. Для каждого из этих запусков конфигурационный файл свой:\n",
    "1) codeml.ctl (усредненный расчет dn/ds)  \n",
    "2) codeml_model_A.ctl (расчет dn/ds в соответствии с нулевой гипотезой)  \n",
    "3) codeml_model_A1.ctl (расчет dn/ds в соответствии с гипотезой действия отбора)  \n",
    "\n",
    "Конфигурационные файлы прикладываю к этой инструкции, чтобы разобраться в их содержании, советую прочитать мануал.\n",
    "Конфигурационные файлы нужно сложить в папку cleancontrol."
   ]
  },
  {
   "cell_type": "markdown",
   "id": "a6be5d24",
   "metadata": {},
   "source": [
    "**3. Запуск программы для расчета усредненного отношения dn/ds на ген.**\n",
    "\n",
    "Можно слепить все кластеры в один, памл умный, он поймет. Но есть шанс, что будет оч долго считаться, поэтому параллельно.\n",
    "\n",
    "Усредненный расчет dn/ds:\n",
    "\n",
    "ls pal2nal | xargs -I {} -P 100 sh -c \"cp ./cleanconntrol/codeml.ctl ./paml_ctr_model_M0/{}.ctl && echo 'seqfile = ./pal2nal/{}' >> ./paml_ctr_model_M0/{}.ctl && echo 'outfile = paml_result_model_M0/{}.out' >> ./paml_ctr_model_M0/{}.ctl && ~/software/paml4.9j/bin/codeml ./paml_ctr_model_M0/{}.ctl\"\n"
   ]
  },
  {
   "cell_type": "markdown",
   "id": "3e18d97d",
   "metadata": {},
   "source": [
    "**4. Запуск программы для расчета dn/ds в соответствии с нулевой гипотезой (на гены не действует отбор).**\n",
    "\n",
    "В файле дерева нужно отметить интересующую тебя ветвь (организм(ы), где предполагается отбор) знаками \"#1\":\n",
    "((1,2 #1),3) \n",
    "\n",
    "ls pal2nal | xargs -I {} -P 100 sh -c \"cp ./cleancontrol/codeml_model_A.ctl ./paml_ctr_model_A/{}.ctl && echo 'seqfile = ./pal2nal/{}' >> ./paml_ctr_model_A/{}.ctl && echo 'outfile = ./paml_result_model_A/{}.out' >> ./paml_ctr_model_A/{}.ctl && ~/software/paml4.9j/bin/codeml ./paml_ctr_model_A/{}.ctl\"\n",
    "\n",
    "\n"
   ]
  },
  {
   "cell_type": "markdown",
   "id": "939201f9",
   "metadata": {},
   "source": [
    "**5. Запуск программы для расчета dn/ds в соответствии с гипотезой действия отбора.**\n",
    "\n",
    "ls pal2nal | xargs -I {} -P 100 sh -c \"cp ./cleancontrol/codeml_model_A1.ctl ./paml_ctr_model_A1/{}.ctl && echo 'seqfile = ./pal2nal/{}' >> ./paml_ctr_model_A1/{}.ctl && echo 'outfile = ./paml_result_model_A1/{}.out' >> ./paml_ctr_model_A1/{}.ctl && ~/software/paml4.9j/bin/codeml ./paml_ctr_model_A1/{}.ctl\""
   ]
  },
  {
   "cell_type": "markdown",
   "id": "9b492b99",
   "metadata": {},
   "source": [
    "**6. Поиск генов под отбором с помощью Likelyhood Ratio Test (LTR)**"
   ]
  },
  {
   "cell_type": "code",
   "execution_count": null,
   "id": "e9e45730",
   "metadata": {},
   "outputs": [],
   "source": []
  }
 ],
 "metadata": {
  "kernelspec": {
   "display_name": "Python 3",
   "language": "python",
   "name": "python3"
  },
  "language_info": {
   "codemirror_mode": {
    "name": "ipython",
    "version": 3
   },
   "file_extension": ".py",
   "mimetype": "text/x-python",
   "name": "python",
   "nbconvert_exporter": "python",
   "pygments_lexer": "ipython3",
   "version": "3.7.9"
  }
 },
 "nbformat": 4,
 "nbformat_minor": 5
}
